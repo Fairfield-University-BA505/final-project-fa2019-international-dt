{
 "cells": [
  {
   "cell_type": "code",
   "execution_count": 2,
   "metadata": {},
   "outputs": [],
   "source": [
    "# Code for the project\n",
    "# Anthonie Hollaar\n",
    "# Date: 11-19-2019"
   ]
  },
  {
   "cell_type": "code",
   "execution_count": null,
   "metadata": {},
   "outputs": [],
   "source": [
    "import pandas as pd\n",
    "from sqlalchemy import create_engine\n",
    "\n",
    "# define path of file (change location of your file)\n",
    "file = r'C:\\Users\\tholl\\OneDrive\\Bureaublad\\Python\\Project 311\\311_Service_Requests_from_2010_to_Present.csv'\n",
    "\n",
    "# define dataframe as df_311 and specify the number of rows\n",
    "df_311 = pd.read_csv(file, nrows=1000000, low_memory=False)\n",
    "#df_311 = pd.read_csv(file)\n",
    "# see the first 5 rows of the dataframe\n",
    "df_311.head()"
   ]
  },
  {
   "cell_type": "code",
   "execution_count": null,
   "metadata": {},
   "outputs": [],
   "source": [
    "#df_311.dtypes\n",
    "df_311[['Created Date', 'Closed Date', 'Complaint Type']].describe()"
   ]
  },
  {
   "cell_type": "code",
   "execution_count": null,
   "metadata": {},
   "outputs": [],
   "source": [
    "df_311.shape"
   ]
  },
  {
   "cell_type": "code",
   "execution_count": null,
   "metadata": {},
   "outputs": [],
   "source": [
    "df_311.info()"
   ]
  },
  {
   "cell_type": "code",
   "execution_count": null,
   "metadata": {},
   "outputs": [],
   "source": [
    "df_311['Created Date'].head(10)"
   ]
  },
  {
   "cell_type": "code",
   "execution_count": null,
   "metadata": {},
   "outputs": [],
   "source": [
    "import datetime\n",
    "\n",
    "# convert 'Created Date' from an object to datetime64[ns]\n",
    "# note that %p works with %I for the hours and changes it to 24:00 instead of 12:00\n",
    "df_311['Created Date'] = pd.to_datetime(df_311['Created Date'], format='%m/%d/%Y %I:%M:%S %p')\n",
    "df_311[['Created Date', 'Complaint Type']].head(10)\n",
    "\n",
    "# example:\n",
    "# source: https://stackoverflow.com/questions/46069234/python-pandas-dataframe-datetime-conversion-excluding-null-value-cells\n",
    "#df = pd.DataFrame({'date':['31-OCT-17 03.58.50.454 PM','31-OCT-17 03.58.50.454 PM']})\n",
    "#df['date1'] = pd.to_datetime(df['date'], format='%d-%b-%y %I.%M.%S.%f %p')"
   ]
  },
  {
   "cell_type": "code",
   "execution_count": null,
   "metadata": {},
   "outputs": [],
   "source": [
    "# count the number of complaints by complaint type\n",
    "# source: https://stackoverflow.com/questions/38309729/count-unique-values-with-pandas-per-groups/38309823\n",
    "df_311.groupby('Complaint Type')['Created Date'].nunique()"
   ]
  },
  {
   "cell_type": "code",
   "execution_count": null,
   "metadata": {},
   "outputs": [],
   "source": [
    "# create a condition based on created date: 01-01-2019\n",
    "# create a new column called year\n",
    "# source: https://www.interviewqs.com/ddi_code_snippets/extract_month_year_pandas\n",
    "import numpy as np\n",
    "\n",
    "# create a year column\n",
    "df_311['Year'] = pd.to_datetime(df_311['Created Date']).dt.to_period('Y')\n",
    "\n",
    "# condition select a specific range (2017 up untill latest data in 2019)\n",
    "df_311_2017 =  df_311[df_311['Year'] >=2017]\n",
    "\n",
    "df_311_2017[['Year', 'Complaint Type']]\n"
   ]
  },
  {
   "cell_type": "code",
   "execution_count": null,
   "metadata": {},
   "outputs": [],
   "source": [
    "# show the number of complaints by type\n",
    "df_311_2017.groupby('Complaint Type')['Created Date'].nunique()"
   ]
  },
  {
   "cell_type": "code",
   "execution_count": null,
   "metadata": {},
   "outputs": [],
   "source": [
    "# Describe the new dataframe based on the year 2017\n",
    "df_311_2017[['Year']].describe()"
   ]
  }
 ],
 "metadata": {
  "kernelspec": {
   "display_name": "Python 3",
   "language": "python",
   "name": "python3"
  },
  "language_info": {
   "codemirror_mode": {
    "name": "ipython",
    "version": 3
   },
   "file_extension": ".py",
   "mimetype": "text/x-python",
   "name": "python",
   "nbconvert_exporter": "python",
   "pygments_lexer": "ipython3",
   "version": "3.6.7"
  }
 },
 "nbformat": 4,
 "nbformat_minor": 2
}
